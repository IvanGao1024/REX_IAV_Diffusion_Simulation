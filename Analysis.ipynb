{
 "cells": [
  {
   "cell_type": "code",
   "execution_count": 1,
   "id": "0eb0e22a-67bb-4291-8f11-3bb28d291dfd",
   "metadata": {},
   "outputs": [],
   "source": [
    "using Plots\n",
    "using CSV\n",
    "using DataFrames\n",
    "using Statistics\n",
    "using StatsPlots\n",
    "using Printf\n",
    "# Store Data\n",
    "using DelimitedFiles"
   ]
  },
  {
   "cell_type": "markdown",
   "id": "738d3bf1-c003-4a47-b3fc-26d7a5916dae",
   "metadata": {},
   "source": [
    "$$\n",
    "D = \\frac{mean(dx^2) + mean(dy^2)}{4\\times Times}\n",
    "$$"
   ]
  },
  {
   "cell_type": "code",
   "execution_count": 2,
   "id": "a14753c7-69de-420a-bf63-c9ca0fa558c0",
   "metadata": {},
   "outputs": [
    {
     "data": {
      "text/plain": [
       "plotData (generic function with 1 method)"
      ]
     },
     "execution_count": 2,
     "metadata": {},
     "output_type": "execute_result"
    }
   ],
   "source": [
    "function plotData(path, methods, savepath) # Loads Data, alpha is horizontal beta is vertical\n",
    "\n",
    "    # Initiation\n",
    "    alpha_max = 0.8\n",
    "    alpha_min = 0.0\n",
    "    alpha_step = 0.2\n",
    "    alpha_nStep = size(alpha_min:alpha_step:alpha_max, 1)\n",
    "    beta_max = 0.8\n",
    "    beta_min = 0.0\n",
    "    beta_step = 0.2\n",
    "    beta_nStep = size(beta_min:beta_step:beta_max, 1)\n",
    "    \n",
    "    raw = Matrix{Matrix{BigFloat}}(undef, beta_nStep, alpha_nStep)\n",
    "\n",
    "    # Load data\n",
    "    for b in 1:beta_nStep\n",
    "        for a in 1:alpha_nStep\n",
    "            alpha = round((a-1) * alpha_step; digits = 1)\n",
    "            beta = round((b-1) * beta_step; digits = 1)\n",
    "            raw[b, a] = Matrix{BigFloat}(DataFrame(CSV.File(\"$path$methods-data-alpha=$alpha-beta=$beta.csv\", header=false)))\n",
    "        end\n",
    "    end\n",
    "    \n",
    "    # Process\n",
    "    time_step = size(raw[1, 1], 1)\n",
    "    Times = 0.2*time_step\n",
    "    \n",
    "    DiffusionCoefficient = Matrix{BigFloat}(undef, beta_nStep, alpha_nStep)\n",
    "    \n",
    "    for b in 1:beta_nStep\n",
    "        for a in 1:alpha_nStep\n",
    "            DiffusionCoefficient[b, a] = (mean(raw[b, a][:,1].^2) + mean(raw[b, a][:,2].^2)) / (4 * Times)\n",
    "        end\n",
    "    end\n",
    "    \n",
    "    # Creating a DataFrame with row and column headers\n",
    "    df = DataFrame(DiffusionCoefficient, [\"alpha=$i\" for i in alpha_min:alpha_step:alpha_max])\n",
    "    df[!, :beta] = [\"beta=$i\" for i in beta_min:beta_step:beta_max]\n",
    "    writedlm(\"$savepath$methods-analysis-DiffusionCoefficient.csv\", DiffusionCoefficient, ',', header=true);\n",
    "    \n",
    "    # Plots Diffusion Coefficient\n",
    "    p1 = plot(grid=true, legend=true, title=\"control beta\")\n",
    "    for b in 1:beta_nStep\n",
    "        beta = round((b - 1) * beta_step, digits=1)\n",
    "        plot!([i for i in alpha_min:alpha_step:alpha_max], DiffusionCoefficient[b, :], label=\"beta=$beta\")\n",
    "    end\n",
    "    savefig(p1, \"$savepath$methods-analysis-LineBeta.png\")\n",
    "    \n",
    "    p2 = plot(grid=true, legend=true, title=\"control alpha\")\n",
    "    for a in 1:alpha_nStep\n",
    "        alpha = round((a - 1) * alpha_step, digits=1)\n",
    "        plot!([i for i in beta_min:beta_step:beta_max], DiffusionCoefficient[:, a], label=\"alpha=$alpha\")\n",
    "    end\n",
    "    savefig(p2, \"$savepath$methods-analysis-LineAlpha.png\")\n",
    "    \n",
    "    p3 = heatmap([\"alpha=$i\" for i in alpha_min:alpha_step:alpha_max], [\"beta=$i\" for i in beta_min:beta_step:beta_max], log.(DiffusionCoefficient), xlabel=\"alpha\", ylabel=\"beta\", title=\"Diffusion Coefficient Log Heatmap\", c=:viridis, color=:auto)\n",
    "    savefig(p3, \"$savepath$methods-analysis-LogHeatMap.png\")\n",
    "\n",
    "    # Plots histogram\n",
    "    # display(histogram(raw[1, 1][:, 1], bins=200, color=\"red\", label=\"dx\", alpha=0.5, xlabel=\"Displacement\", ylabel=\"Frequency\", title=\"Displacement \", size=(1920,1080)))\n",
    "    # display(histogram(raw[1, 1][:, 2], bins=200, color=\"green\", label=\"dy\", alpha=0.5, xlabel=\"Displacement\", ylabel=\"Frequency\", title=\"Displacement \", size=(1920,1080)))\n",
    "    # display(histogram(raw[1, 1][:, 3], bins=200, color=\"blue\", label=\"dtheta\", alpha=0.5, xlabel=\"Displacement\", ylabel=\"Frequency\", title=\"Displacement \", size=(1920,1080), polar=true))\n",
    "\n",
    "    plots = Array{Any}(undef, beta_nStep, alpha_nStep)\n",
    "\n",
    "    for b in 1:beta_nStep\n",
    "        for a in 1:alpha_nStep\n",
    "            alpha = round((a - 1) * alpha_step, digits=1)\n",
    "            beta = round((b - 1) * beta_step, digits=1)\n",
    "            \n",
    "            q25, q75 = quantile(raw[b, a][:, 1], [0.25, 0.75])\n",
    "            \n",
    "            mean_str = @sprintf(\"%.2e\", mean(raw[b, a][:, 1]))\n",
    "            median_str = @sprintf(\"%.2e\", median(raw[b, a][:, 1]))\n",
    "            q25_str = @sprintf(\"%.2e\", q25)\n",
    "            q75_str = @sprintf(\"%.2e\", q75)\n",
    "            \n",
    "            p = plot(xlabel=\"Displacement\", ylabel=\"Frequency\", title=\"dx,m$mean_str,md$median_str,q25=$q25_str,q75=$q75_str\", size=(4000, 2000))\n",
    "            \n",
    "            histogram!(raw[b, a][:, 1], bins=200, color=\"red\", label=\"dx\", alpha=0.5)\n",
    "            boxplot!(raw[b, a][:, 1], seriestype=:box, orientation=:h, whisker_width=10, label=\"\")\n",
    "\n",
    "            plots[b, a] = p\n",
    "        end\n",
    "    end\n",
    "    \n",
    "    p4 = plot(plots..., layout=(beta_nStep, alpha_nStep), polar=true)\n",
    "    savefig(p4, \"$savepath$methods-analysis-DisplacementSummary_dx.png\")\n",
    "    \n",
    "    for b in 1:beta_nStep\n",
    "        for a in 1:alpha_nStep\n",
    "            alpha = round((a - 1) * alpha_step, digits=1)\n",
    "            beta = round((b - 1) * beta_step, digits=1)\n",
    "            \n",
    "            q25, q75 = quantile(raw[b, a][:, 2], [0.25, 0.75])\n",
    "            \n",
    "            mean_str = @sprintf(\"%.2e\", mean(raw[b, a][:, 2]))\n",
    "            median_str = @sprintf(\"%.2e\", median(raw[b, a][:, 2]))\n",
    "            q25_str = @sprintf(\"%.2e\", q25)\n",
    "            q75_str = @sprintf(\"%.2e\", q75)\n",
    "            \n",
    "            p = plot(xlabel=\"Displacement\", ylabel=\"Frequency\", title=\"dy,m$mean_str,md$median_str,q25=$q25_str,q75=$q75_str\", size=(4000, 2000))\n",
    "            \n",
    "            histogram!(raw[b, a][:, 2], bins=200, color=\"red\", label=\"dy\", alpha=0.5)\n",
    "            boxplot!(raw[b, a][:, 2], seriestype=:box, orientation=:h, whisker_width=10, label=\"\")\n",
    "\n",
    "            plots[b, a] = p\n",
    "        end\n",
    "    end\n",
    "    \n",
    "    p5 = plot(plots..., layout=(beta_nStep, alpha_nStep), polar=true)\n",
    "    savefig(p5, \"$savepath$methods-analysis-DisplacementSummary_dy.png\")\n",
    "    \n",
    "    \n",
    "    for b in 1:beta_nStep\n",
    "        for a in 1:alpha_nStep\n",
    "            alpha = round((a - 1) * alpha_step, digits=1)\n",
    "            beta = round((b - 1) * beta_step, digits=1)\n",
    "            \n",
    "            q25, q75 = quantile(raw[b, a][:, 3], [0.25, 0.75])\n",
    "            \n",
    "            mean_str = @sprintf(\"%.2e\", mean(raw[b, a][:, 3]))\n",
    "            median_str = @sprintf(\"%.2e\", median(raw[b, a][:, 3]))\n",
    "            q25_str = @sprintf(\"%.2e\", q25)\n",
    "            q75_str = @sprintf(\"%.2e\", q75)\n",
    "            \n",
    "            p = plot(xlabel=\"Displacement\", ylabel=\"Frequency\", title=\"dtheta,m$mean_str,md$median_str,q25=$q25_str,q75=$q75_str\", size=(4000, 2000))\n",
    "            \n",
    "            histogram!(raw[b, a][:, 3], bins=200, color=\"red\", label=\"dtheta\", alpha=0.5)\n",
    "            boxplot!(raw[b, a][:, 3], seriestype=:box, orientation=:h, whisker_width=10, label=\"\")\n",
    "\n",
    "            plots[b, a] = p\n",
    "        end\n",
    "    end\n",
    "    \n",
    "    p6 = plot(plots..., layout=(beta_nStep, alpha_nStep), polar=true)\n",
    "    savefig(p6, \"$savepath$methods-analysis-DisplacementSummary_dtheta.png\")\n",
    "    \n",
    "    # display(p1)\n",
    "    # display(p2)\n",
    "    # display(p3)\n",
    "    # display(p4)\n",
    "    # display(p5)\n",
    "    # display(p6)\n",
    "end"
   ]
  },
  {
   "cell_type": "code",
   "execution_count": 3,
   "id": "45da0925-bf23-4a8d-a75a-3461b1e6b260",
   "metadata": {},
   "outputs": [
    {
     "name": "stderr",
     "output_type": "stream",
     "text": [
      "\u001b[33m\u001b[1m┌ \u001b[22m\u001b[39m\u001b[33m\u001b[1mWarning: \u001b[22m\u001b[39mNo strict ticks found\n",
      "\u001b[33m\u001b[1m└ \u001b[22m\u001b[39m\u001b[90m@ PlotUtils C:\\Users\\yuang\\.julia\\packages\\PlotUtils\\jEGKP\\src\\ticks.jl:191\u001b[39m\n",
      "\u001b[33m\u001b[1m┌ \u001b[22m\u001b[39m\u001b[33m\u001b[1mWarning: \u001b[22m\u001b[39mNo strict ticks found\n",
      "\u001b[33m\u001b[1m└ \u001b[22m\u001b[39m\u001b[90m@ PlotUtils C:\\Users\\yuang\\.julia\\packages\\PlotUtils\\jEGKP\\src\\ticks.jl:191\u001b[39m\n",
      "\u001b[33m\u001b[1m┌ \u001b[22m\u001b[39m\u001b[33m\u001b[1mWarning: \u001b[22m\u001b[39mNo strict ticks found\n",
      "\u001b[33m\u001b[1m└ \u001b[22m\u001b[39m\u001b[90m@ PlotUtils C:\\Users\\yuang\\.julia\\packages\\PlotUtils\\jEGKP\\src\\ticks.jl:191\u001b[39m\n",
      "\u001b[33m\u001b[1m┌ \u001b[22m\u001b[39m\u001b[33m\u001b[1mWarning: \u001b[22m\u001b[39mNo strict ticks found\n",
      "\u001b[33m\u001b[1m└ \u001b[22m\u001b[39m\u001b[90m@ PlotUtils C:\\Users\\yuang\\.julia\\packages\\PlotUtils\\jEGKP\\src\\ticks.jl:191\u001b[39m\n"
     ]
    },
    {
     "data": {
      "text/plain": [
       "\"C:\\\\Users\\\\yuang\\\\temp\\\\rex_iav_diffusion\\\\data\\\\Analysis\\\\VDisjoint-analysis-DisplacementSummary_dtheta.png\""
      ]
     },
     "execution_count": 3,
     "metadata": {},
     "output_type": "execute_result"
    }
   ],
   "source": [
    "plotData(\"data/VDisjoint2000/\", \"VDisjoint\", \"data/Analysis/\")"
   ]
  },
  {
   "cell_type": "code",
   "execution_count": 4,
   "id": "43f2e356-ecba-46c3-b428-fd27c5487f83",
   "metadata": {},
   "outputs": [
    {
     "name": "stderr",
     "output_type": "stream",
     "text": [
      "\u001b[33m\u001b[1m┌ \u001b[22m\u001b[39m\u001b[33m\u001b[1mWarning: \u001b[22m\u001b[39mNo strict ticks found\n",
      "\u001b[33m\u001b[1m└ \u001b[22m\u001b[39m\u001b[90m@ PlotUtils C:\\Users\\yuang\\.julia\\packages\\PlotUtils\\jEGKP\\src\\ticks.jl:191\u001b[39m\n",
      "\u001b[33m\u001b[1m┌ \u001b[22m\u001b[39m\u001b[33m\u001b[1mWarning: \u001b[22m\u001b[39mNo strict ticks found\n",
      "\u001b[33m\u001b[1m└ \u001b[22m\u001b[39m\u001b[90m@ PlotUtils C:\\Users\\yuang\\.julia\\packages\\PlotUtils\\jEGKP\\src\\ticks.jl:191\u001b[39m\n",
      "\u001b[33m\u001b[1m┌ \u001b[22m\u001b[39m\u001b[33m\u001b[1mWarning: \u001b[22m\u001b[39mNo strict ticks found\n",
      "\u001b[33m\u001b[1m└ \u001b[22m\u001b[39m\u001b[90m@ PlotUtils C:\\Users\\yuang\\.julia\\packages\\PlotUtils\\jEGKP\\src\\ticks.jl:191\u001b[39m\n",
      "\u001b[33m\u001b[1m┌ \u001b[22m\u001b[39m\u001b[33m\u001b[1mWarning: \u001b[22m\u001b[39mNo strict ticks found\n",
      "\u001b[33m\u001b[1m└ \u001b[22m\u001b[39m\u001b[90m@ PlotUtils C:\\Users\\yuang\\.julia\\packages\\PlotUtils\\jEGKP\\src\\ticks.jl:191\u001b[39m\n"
     ]
    },
    {
     "data": {
      "text/plain": [
       "\"C:\\\\Users\\\\yuang\\\\temp\\\\rex_iav_diffusion\\\\data\\\\Analysis\\\\Mixing-analysis-DisplacementSummary_dtheta.png\""
      ]
     },
     "execution_count": 4,
     "metadata": {},
     "output_type": "execute_result"
    }
   ],
   "source": [
    "plotData(\"data/Mixing1000/\", \"Mixing\", \"data/Analysis/\")"
   ]
  },
  {
   "cell_type": "code",
   "execution_count": 5,
   "id": "4146fb8a-56f0-4d69-80c6-a961510c117c",
   "metadata": {},
   "outputs": [
    {
     "name": "stderr",
     "output_type": "stream",
     "text": [
      "\u001b[33m\u001b[1m┌ \u001b[22m\u001b[39m\u001b[33m\u001b[1mWarning: \u001b[22m\u001b[39mNo strict ticks found\n",
      "\u001b[33m\u001b[1m└ \u001b[22m\u001b[39m\u001b[90m@ PlotUtils C:\\Users\\yuang\\.julia\\packages\\PlotUtils\\jEGKP\\src\\ticks.jl:191\u001b[39m\n",
      "\u001b[33m\u001b[1m┌ \u001b[22m\u001b[39m\u001b[33m\u001b[1mWarning: \u001b[22m\u001b[39mNo strict ticks found\n",
      "\u001b[33m\u001b[1m└ \u001b[22m\u001b[39m\u001b[90m@ PlotUtils C:\\Users\\yuang\\.julia\\packages\\PlotUtils\\jEGKP\\src\\ticks.jl:191\u001b[39m\n",
      "\u001b[33m\u001b[1m┌ \u001b[22m\u001b[39m\u001b[33m\u001b[1mWarning: \u001b[22m\u001b[39mNo strict ticks found\n",
      "\u001b[33m\u001b[1m└ \u001b[22m\u001b[39m\u001b[90m@ PlotUtils C:\\Users\\yuang\\.julia\\packages\\PlotUtils\\jEGKP\\src\\ticks.jl:191\u001b[39m\n",
      "\u001b[33m\u001b[1m┌ \u001b[22m\u001b[39m\u001b[33m\u001b[1mWarning: \u001b[22m\u001b[39mNo strict ticks found\n",
      "\u001b[33m\u001b[1m└ \u001b[22m\u001b[39m\u001b[90m@ PlotUtils C:\\Users\\yuang\\.julia\\packages\\PlotUtils\\jEGKP\\src\\ticks.jl:191\u001b[39m\n"
     ]
    },
    {
     "data": {
      "text/plain": [
       "\"C:\\\\Users\\\\yuang\\\\temp\\\\rex_iav_diffusion\\\\data\\\\Analysis\\\\Random-analysis-DisplacementSummary_dtheta.png\""
      ]
     },
     "execution_count": 5,
     "metadata": {},
     "output_type": "execute_result"
    }
   ],
   "source": [
    "plotData(\"data/Random180/\", \"Random\", \"data/Analysis/\")"
   ]
  },
  {
   "cell_type": "code",
   "execution_count": null,
   "id": "e58aaaf8-522f-40a1-a656-5dfcd12ed170",
   "metadata": {},
   "outputs": [],
   "source": []
  }
 ],
 "metadata": {
  "kernelspec": {
   "display_name": "Julia 1.10.0",
   "language": "julia",
   "name": "julia-1.10"
  },
  "language_info": {
   "file_extension": ".jl",
   "mimetype": "application/julia",
   "name": "julia",
   "version": "1.10.0"
  }
 },
 "nbformat": 4,
 "nbformat_minor": 5
}
